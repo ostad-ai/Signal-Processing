{
 "cells": [
  {
   "cell_type": "markdown",
   "id": "60066f66",
   "metadata": {},
   "source": [
    "### Signal Processing\n",
    "#### Z-transform and its relation to convolution:\n",
    "$ y[n]=x[n]*h[n] $\n",
    "<br>$Y(z)=X(z)H(z) $\n",
    "<hr>\n",
    "https://github.com/ostad-ai/Signal-Processing\n",
    "<br> Explanation: https://www.pinterest.com/HamedShahHosseini/Signal-Processing"
   ]
  },
  {
   "cell_type": "code",
   "execution_count": 12,
   "id": "868ded86",
   "metadata": {},
   "outputs": [],
   "source": [
    "import numpy as np"
   ]
  },
  {
   "cell_type": "code",
   "execution_count": 15,
   "id": "2dfa03ff",
   "metadata": {},
   "outputs": [
    {
     "name": "stdout",
     "output_type": "stream",
     "text": [
      "The convolution in z-domain: Y(z)=X(z)H(z)\n",
      "x= [1, 2, 2, 1]\n",
      "h= [-1, 0, 1]\n",
      "x*h= [-1. -2. -1.  1.  2.  1.]\n"
     ]
    }
   ],
   "source": [
    "# computing convolution with polynomial multiplication in Z-domain\n",
    "def X_convolve_H(x,h):\n",
    "    return np.polynomial.polynomial.polymul(x,h)\n",
    "x=[1,2,2,1]\n",
    "h=[-1,0,1]\n",
    "print('The convolution in z-domain: Y(z)=X(z)H(z)')\n",
    "print('x=',x)\n",
    "print('h=',h)\n",
    "print('x*h=',X_convolve_H(x,h))"
   ]
  },
  {
   "cell_type": "code",
   "execution_count": null,
   "id": "a4938b61",
   "metadata": {},
   "outputs": [],
   "source": []
  }
 ],
 "metadata": {
  "kernelspec": {
   "display_name": "Python 3 (ipykernel)",
   "language": "python",
   "name": "python3"
  },
  "language_info": {
   "codemirror_mode": {
    "name": "ipython",
    "version": 3
   },
   "file_extension": ".py",
   "mimetype": "text/x-python",
   "name": "python",
   "nbconvert_exporter": "python",
   "pygments_lexer": "ipython3",
   "version": "3.8.10"
  }
 },
 "nbformat": 4,
 "nbformat_minor": 5
}
