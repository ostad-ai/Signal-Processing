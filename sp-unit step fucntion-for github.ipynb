{
 "cells": [
  {
   "attachments": {},
   "cell_type": "markdown",
   "id": "129f0ca7",
   "metadata": {},
   "source": [
    "### Signal Processing\n",
    "#### unit impulse from the difference of  two unit steps:\n",
    "$\\delta[n]=u[n]-u[n-1]$\n",
    "<hr>\n",
    "https://github.com/ostad-ai/Signal-Processing\n",
    "<br> Explanation: https://www.pinterest.com/HamedShahHosseini/Signal-Processing"
   ]
  },
  {
   "cell_type": "code",
   "execution_count": 12,
   "id": "1dda9e30",
   "metadata": {},
   "outputs": [],
   "source": [
    "def delta(n):\n",
    "    if n==0:\n",
    "        return 1\n",
    "    else:\n",
    "        return 0\n",
    "    \n",
    "def step(n):\n",
    "    if n<0:\n",
    "        return 0\n",
    "    else:\n",
    "        return 1\n",
    "    \n",
    "def delta_from_step(n):\n",
    "    return step(n)-step(n-1)"
   ]
  },
  {
   "cell_type": "code",
   "execution_count": 26,
   "id": "1ce18754",
   "metadata": {},
   "outputs": [
    {
     "name": "stdout",
     "output_type": "stream",
     "text": [
      "delta[n]  u[n]-u[n-1]  n\n",
      "0             0       -2\n",
      "0             0       -1\n",
      "1             1       0\n",
      "0             0       1\n",
      "0             0       2\n",
      "0             0       3\n"
     ]
    }
   ],
   "source": [
    "# consider x[n] as a sequence below\n",
    "# and check property delta[n]=u[n]-u[n-1]\n",
    "x=[-2,-1,0,1,2,3]\n",
    "print('delta[n] ','u[n]-u[n-1]',' n')\n",
    "for n in x:\n",
    "    print(delta(n),11*' ',delta_from_step(n),5*' ',n)"
   ]
  },
  {
   "cell_type": "code",
   "execution_count": null,
   "id": "c6054ddb",
   "metadata": {},
   "outputs": [],
   "source": []
  }
 ],
 "metadata": {
  "kernelspec": {
   "display_name": "Python 3 (ipykernel)",
   "language": "python",
   "name": "python3"
  },
  "language_info": {
   "codemirror_mode": {
    "name": "ipython",
    "version": 3
   },
   "file_extension": ".py",
   "mimetype": "text/x-python",
   "name": "python",
   "nbconvert_exporter": "python",
   "pygments_lexer": "ipython3",
   "version": "3.8.10"
  }
 },
 "nbformat": 4,
 "nbformat_minor": 5
}
