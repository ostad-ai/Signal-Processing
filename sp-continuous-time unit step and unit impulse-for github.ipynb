{
 "cells": [
  {
   "cell_type": "markdown",
   "id": "60066f66",
   "metadata": {},
   "source": [
    "### Signal Processing\n",
    "#### Continuous-time unit-impulse $\\delta(t)$ and continuous-time unit step $u(t)$:\n",
    "$\\delta(t)=\\frac{du(t)}{dt},\\; u(t)=\\int_{-\\infty}^{t} \\delta(\\tau)d\\tau$\n",
    "<hr>\n",
    "https://github.com/ostad-ai/Signal-Processing\n",
    "<br> Explanation: https://www.pinterest.com/HamedShahHosseini/Signal-Processing"
   ]
  },
  {
   "cell_type": "code",
   "execution_count": 1,
   "id": "868ded86",
   "metadata": {},
   "outputs": [],
   "source": [
    "from matplotlib import pyplot as plt\n",
    "import numpy as np"
   ]
  },
  {
   "cell_type": "code",
   "execution_count": 5,
   "id": "c2f7b7d5",
   "metadata": {},
   "outputs": [
    {
     "data": {
      "image/png": "[encoded data removed]",
      "text/plain": [
       "<Figure size 432x288 with 1 Axes>"
      ]
     },
     "metadata": {
      "needs_background": "light"
     },
     "output_type": "display_data"
    }
   ],
   "source": [
    "#approximate continuous-time unit impulse\n",
    "def d(t,delta=1e-3):\n",
    "    if 0<=t<=delta:\n",
    "        return 1./delta\n",
    "    else:\n",
    "        return 0.\n",
    "    \n",
    "#approximate continuous-time unit step\n",
    "def u(t,delta=1e-3):\n",
    "    if t<0:\n",
    "        return 0\n",
    "    elif 0<=t<=delta:\n",
    "        return t/delta\n",
    "    else:\n",
    "        return 1.\n",
    "    \n",
    "#differentiation    \n",
    "def diff(f,t,h=1e-5):\n",
    "    return (f(t+h)-f(t))/h\n",
    "\n",
    "ts=np.arange(-1,1,1e-3)\n",
    "ds=[diff(u,t) for t in ts]\n",
    "ds=np.asarray(ds)\n",
    "plt.plot(ts,ds,label='$\\delta(t)$')\n",
    "plt.xlabel('$t$')\n",
    "plt.title(r'Approximate $\\delta(t)$ as $\\frac{du(t)}{dt}$')\n",
    "plt.legend(); plt.show()"
   ]
  },
  {
   "cell_type": "code",
   "execution_count": null,
   "id": "8ed78786",
   "metadata": {},
   "outputs": [],
   "source": []
  }
 ],
 "metadata": {
  "kernelspec": {
   "display_name": "Python 3 (ipykernel)",
   "language": "python",
   "name": "python3"
  },
  "language_info": {
   "codemirror_mode": {
    "name": "ipython",
    "version": 3
   },
   "file_extension": ".py",
   "mimetype": "text/x-python",
   "name": "python",
   "nbconvert_exporter": "python",
   "pygments_lexer": "ipython3",
   "version": "3.8.10"
  }
 },
 "nbformat": 4,
 "nbformat_minor": 5
}
