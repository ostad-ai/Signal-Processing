{
 "cells": [
  {
   "cell_type": "markdown",
   "id": "129f0ca7",
   "metadata": {},
   "source": [
    "### Signal Processing\n",
    "#### Sifting property:\n",
    "$x[n]=\\sum_{m=-\\infty}^{\\infty}x[m]\\delta[n-m]$\n",
    "<hr>\n",
    "https://github.com/ostad-ai/Signal-Processing"
   ]
  },
  {
   "cell_type": "code",
   "execution_count": 15,
   "id": "1dda9e30",
   "metadata": {},
   "outputs": [],
   "source": [
    "def delta(n):\n",
    "    if n==0:\n",
    "        return 1\n",
    "    else:\n",
    "        return 0\n",
    "    \n",
    "def sift(n,x):\n",
    "    x_sift=0\n",
    "    for m,xm in enumerate(x):\n",
    "        x_sift+=xm*delta(n-m)\n",
    "    return x_sift"
   ]
  },
  {
   "cell_type": "code",
   "execution_count": 18,
   "id": "1ce18754",
   "metadata": {},
   "outputs": [
    {
     "name": "stdout",
     "output_type": "stream",
     "text": [
      "x[n] sift\n",
      "1    1\n",
      "2    2\n",
      "3    3\n",
      "4    4\n",
      "5    5\n"
     ]
    }
   ],
   "source": [
    "# consider x[n] as a sequence below\n",
    "# and check sifting property\n",
    "x=[1,2,3,4,5]\n",
    "print('x[n]','sift')\n",
    "for n in range(len(x)):\n",
    "    print(x[n],'  ',sift(n,x))"
   ]
  },
  {
   "cell_type": "code",
   "execution_count": null,
   "id": "c6054ddb",
   "metadata": {},
   "outputs": [],
   "source": []
  }
 ],
 "metadata": {
  "kernelspec": {
   "display_name": "Python 3 (ipykernel)",
   "language": "python",
   "name": "python3"
  },
  "language_info": {
   "codemirror_mode": {
    "name": "ipython",
    "version": 3
   },
   "file_extension": ".py",
   "mimetype": "text/x-python",
   "name": "python",
   "nbconvert_exporter": "python",
   "pygments_lexer": "ipython3",
   "version": "3.8.10"
  }
 },
 "nbformat": 4,
 "nbformat_minor": 5
}
