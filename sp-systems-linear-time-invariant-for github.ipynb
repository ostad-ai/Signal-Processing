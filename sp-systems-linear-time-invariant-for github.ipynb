{
 "cells": [
  {
   "cell_type": "markdown",
   "id": "129f0ca7",
   "metadata": {},
   "source": [
    "### Signal Processing\n",
    "#### Linear system:\n",
    "$a_1x_1[n]+a_2x_2[n]\\rightarrow a_1y_1[n]+a_2y_2[n]$\n",
    "#### Time-invariant system:\n",
    "$x[n]\\rightarrow y[n], then\\; x[n-n_0]\\rightarrow y]n-n_0]$\n",
    "<hr>\n",
    "https://github.com/ostad-ai/Signal-Processing\n",
    "<br> Explanation: https://www.pinterest.com/HamedShahHosseini/Signal-Processing"
   ]
  },
  {
   "cell_type": "code",
   "execution_count": 44,
   "id": "3f3130de",
   "metadata": {},
   "outputs": [],
   "source": [
    "import pandas as pd"
   ]
  },
  {
   "cell_type": "code",
   "execution_count": 63,
   "id": "a5eba54b",
   "metadata": {},
   "outputs": [],
   "source": [
    "# A system definition\n",
    "def y(n,x):\n",
    "    if n==0:\n",
    "        return 2*x[n]\n",
    "    else:\n",
    "        return 2*x[n]+x[n-1]"
   ]
  },
  {
   "cell_type": "markdown",
   "id": "6f39353a",
   "metadata": {},
   "source": [
    "Homogeneity: $a\\cdot x_1[n]\\rightarrow a\\cdot y_1[n]$"
   ]
  },
  {
   "cell_type": "code",
   "execution_count": 62,
   "id": "c6054ddb",
   "metadata": {},
   "outputs": [
    {
     "data": {
      "text/html": [
       "<style type=\"text/css\">\n",
       "</style>\n",
       "<table id=\"T_f1e25_\">\n",
       "  <caption>Checking Homogeneity:</caption>\n",
       "  <thead>\n",
       "    <tr>\n",
       "      <th class=\"blank level0\" >&nbsp;</th>\n",
       "      <th class=\"col_heading level0 col0\" >x[n]</th>\n",
       "      <th class=\"col_heading level0 col1\" >y[n]</th>\n",
       "      <th class=\"col_heading level0 col2\" >a*x[n]</th>\n",
       "      <th class=\"col_heading level0 col3\" >a*y[n]</th>\n",
       "      <th class=\"col_heading level0 col4\" >y[n] for a*x[n]</th>\n",
       "    </tr>\n",
       "  </thead>\n",
       "  <tbody>\n",
       "    <tr>\n",
       "      <th id=\"T_f1e25_level0_row0\" class=\"row_heading level0 row0\" >0</th>\n",
       "      <td id=\"T_f1e25_row0_col0\" class=\"data row0 col0\" >-2</td>\n",
       "      <td id=\"T_f1e25_row0_col1\" class=\"data row0 col1\" >-4</td>\n",
       "      <td id=\"T_f1e25_row0_col2\" class=\"data row0 col2\" >-6</td>\n",
       "      <td id=\"T_f1e25_row0_col3\" class=\"data row0 col3\" >-12</td>\n",
       "      <td id=\"T_f1e25_row0_col4\" class=\"data row0 col4\" >-12</td>\n",
       "    </tr>\n",
       "    <tr>\n",
       "      <th id=\"T_f1e25_level0_row1\" class=\"row_heading level0 row1\" >1</th>\n",
       "      <td id=\"T_f1e25_row1_col0\" class=\"data row1 col0\" >-1</td>\n",
       "      <td id=\"T_f1e25_row1_col1\" class=\"data row1 col1\" >-4</td>\n",
       "      <td id=\"T_f1e25_row1_col2\" class=\"data row1 col2\" >-3</td>\n",
       "      <td id=\"T_f1e25_row1_col3\" class=\"data row1 col3\" >-12</td>\n",
       "      <td id=\"T_f1e25_row1_col4\" class=\"data row1 col4\" >-12</td>\n",
       "    </tr>\n",
       "    <tr>\n",
       "      <th id=\"T_f1e25_level0_row2\" class=\"row_heading level0 row2\" >2</th>\n",
       "      <td id=\"T_f1e25_row2_col0\" class=\"data row2 col0\" >0</td>\n",
       "      <td id=\"T_f1e25_row2_col1\" class=\"data row2 col1\" >-1</td>\n",
       "      <td id=\"T_f1e25_row2_col2\" class=\"data row2 col2\" >0</td>\n",
       "      <td id=\"T_f1e25_row2_col3\" class=\"data row2 col3\" >-3</td>\n",
       "      <td id=\"T_f1e25_row2_col4\" class=\"data row2 col4\" >-3</td>\n",
       "    </tr>\n",
       "    <tr>\n",
       "      <th id=\"T_f1e25_level0_row3\" class=\"row_heading level0 row3\" >3</th>\n",
       "      <td id=\"T_f1e25_row3_col0\" class=\"data row3 col0\" >1</td>\n",
       "      <td id=\"T_f1e25_row3_col1\" class=\"data row3 col1\" >2</td>\n",
       "      <td id=\"T_f1e25_row3_col2\" class=\"data row3 col2\" >3</td>\n",
       "      <td id=\"T_f1e25_row3_col3\" class=\"data row3 col3\" >6</td>\n",
       "      <td id=\"T_f1e25_row3_col4\" class=\"data row3 col4\" >6</td>\n",
       "    </tr>\n",
       "    <tr>\n",
       "      <th id=\"T_f1e25_level0_row4\" class=\"row_heading level0 row4\" >4</th>\n",
       "      <td id=\"T_f1e25_row4_col0\" class=\"data row4 col0\" >2</td>\n",
       "      <td id=\"T_f1e25_row4_col1\" class=\"data row4 col1\" >5</td>\n",
       "      <td id=\"T_f1e25_row4_col2\" class=\"data row4 col2\" >6</td>\n",
       "      <td id=\"T_f1e25_row4_col3\" class=\"data row4 col3\" >15</td>\n",
       "      <td id=\"T_f1e25_row4_col4\" class=\"data row4 col4\" >15</td>\n",
       "    </tr>\n",
       "  </tbody>\n",
       "</table>\n"
      ],
      "text/plain": [
       "<pandas.io.formats.style.Styler at 0xe7c0790>"
      ]
     },
     "execution_count": 62,
     "metadata": {},
     "output_type": "execute_result"
    }
   ],
   "source": [
    "x1=[-2,-1,0,1,2]; x2=[1,0,1,0,1]; a=3\n",
    "ax1=[a*x1i for x1i in x1]\n",
    "ax2=[a*x2i for x2i in x2]\n",
    "columns=['x[n]','y[n]','a*x[n]','a*y[n]','y[n] for a*x[n]']\n",
    "rows=[]\n",
    "for n in range(len(x1)):\n",
    "    temp=[x1[n],y(n,x1),a*x1[n],a*y(n,x1),y(n,ax1)]\n",
    "    rows.append(temp)\n",
    "df=pd.DataFrame(rows,columns=columns)\n",
    "df=df.style.set_caption('Checking Homogeneity:')\n",
    "df"
   ]
  },
  {
   "cell_type": "markdown",
   "id": "43f875c6",
   "metadata": {},
   "source": [
    "Additivity:$x_1[n]+x_2[n]\\rightarrow y_1[n]+y_2[n]$"
   ]
  },
  {
   "cell_type": "code",
   "execution_count": 58,
   "id": "2532b91a",
   "metadata": {},
   "outputs": [
    {
     "data": {
      "text/html": [
       "<style type=\"text/css\">\n",
       "</style>\n",
       "<table id=\"T_fbe58_\">\n",
       "  <caption>Checking additivity:</caption>\n",
       "  <thead>\n",
       "    <tr>\n",
       "      <th class=\"blank level0\" >&nbsp;</th>\n",
       "      <th class=\"col_heading level0 col0\" >x1[n]</th>\n",
       "      <th class=\"col_heading level0 col1\" >y1[n]</th>\n",
       "      <th class=\"col_heading level0 col2\" >x2[n]</th>\n",
       "      <th class=\"col_heading level0 col3\" >y2[n]</th>\n",
       "      <th class=\"col_heading level0 col4\" >x1[n]+x2[n]</th>\n",
       "      <th class=\"col_heading level0 col5\" >y1[n]+y2[n]</th>\n",
       "      <th class=\"col_heading level0 col6\" >y[n] for x[n]=x1[n]+x2[n]</th>\n",
       "    </tr>\n",
       "  </thead>\n",
       "  <tbody>\n",
       "    <tr>\n",
       "      <th id=\"T_fbe58_level0_row0\" class=\"row_heading level0 row0\" >0</th>\n",
       "      <td id=\"T_fbe58_row0_col0\" class=\"data row0 col0\" >-2</td>\n",
       "      <td id=\"T_fbe58_row0_col1\" class=\"data row0 col1\" >-4</td>\n",
       "      <td id=\"T_fbe58_row0_col2\" class=\"data row0 col2\" >1</td>\n",
       "      <td id=\"T_fbe58_row0_col3\" class=\"data row0 col3\" >2</td>\n",
       "      <td id=\"T_fbe58_row0_col4\" class=\"data row0 col4\" >-1</td>\n",
       "      <td id=\"T_fbe58_row0_col5\" class=\"data row0 col5\" >-2</td>\n",
       "      <td id=\"T_fbe58_row0_col6\" class=\"data row0 col6\" >-2</td>\n",
       "    </tr>\n",
       "    <tr>\n",
       "      <th id=\"T_fbe58_level0_row1\" class=\"row_heading level0 row1\" >1</th>\n",
       "      <td id=\"T_fbe58_row1_col0\" class=\"data row1 col0\" >-1</td>\n",
       "      <td id=\"T_fbe58_row1_col1\" class=\"data row1 col1\" >-4</td>\n",
       "      <td id=\"T_fbe58_row1_col2\" class=\"data row1 col2\" >0</td>\n",
       "      <td id=\"T_fbe58_row1_col3\" class=\"data row1 col3\" >1</td>\n",
       "      <td id=\"T_fbe58_row1_col4\" class=\"data row1 col4\" >-1</td>\n",
       "      <td id=\"T_fbe58_row1_col5\" class=\"data row1 col5\" >-3</td>\n",
       "      <td id=\"T_fbe58_row1_col6\" class=\"data row1 col6\" >-3</td>\n",
       "    </tr>\n",
       "    <tr>\n",
       "      <th id=\"T_fbe58_level0_row2\" class=\"row_heading level0 row2\" >2</th>\n",
       "      <td id=\"T_fbe58_row2_col0\" class=\"data row2 col0\" >0</td>\n",
       "      <td id=\"T_fbe58_row2_col1\" class=\"data row2 col1\" >-1</td>\n",
       "      <td id=\"T_fbe58_row2_col2\" class=\"data row2 col2\" >1</td>\n",
       "      <td id=\"T_fbe58_row2_col3\" class=\"data row2 col3\" >2</td>\n",
       "      <td id=\"T_fbe58_row2_col4\" class=\"data row2 col4\" >1</td>\n",
       "      <td id=\"T_fbe58_row2_col5\" class=\"data row2 col5\" >1</td>\n",
       "      <td id=\"T_fbe58_row2_col6\" class=\"data row2 col6\" >1</td>\n",
       "    </tr>\n",
       "    <tr>\n",
       "      <th id=\"T_fbe58_level0_row3\" class=\"row_heading level0 row3\" >3</th>\n",
       "      <td id=\"T_fbe58_row3_col0\" class=\"data row3 col0\" >1</td>\n",
       "      <td id=\"T_fbe58_row3_col1\" class=\"data row3 col1\" >2</td>\n",
       "      <td id=\"T_fbe58_row3_col2\" class=\"data row3 col2\" >0</td>\n",
       "      <td id=\"T_fbe58_row3_col3\" class=\"data row3 col3\" >1</td>\n",
       "      <td id=\"T_fbe58_row3_col4\" class=\"data row3 col4\" >1</td>\n",
       "      <td id=\"T_fbe58_row3_col5\" class=\"data row3 col5\" >3</td>\n",
       "      <td id=\"T_fbe58_row3_col6\" class=\"data row3 col6\" >3</td>\n",
       "    </tr>\n",
       "    <tr>\n",
       "      <th id=\"T_fbe58_level0_row4\" class=\"row_heading level0 row4\" >4</th>\n",
       "      <td id=\"T_fbe58_row4_col0\" class=\"data row4 col0\" >2</td>\n",
       "      <td id=\"T_fbe58_row4_col1\" class=\"data row4 col1\" >5</td>\n",
       "      <td id=\"T_fbe58_row4_col2\" class=\"data row4 col2\" >1</td>\n",
       "      <td id=\"T_fbe58_row4_col3\" class=\"data row4 col3\" >2</td>\n",
       "      <td id=\"T_fbe58_row4_col4\" class=\"data row4 col4\" >3</td>\n",
       "      <td id=\"T_fbe58_row4_col5\" class=\"data row4 col5\" >7</td>\n",
       "      <td id=\"T_fbe58_row4_col6\" class=\"data row4 col6\" >7</td>\n",
       "    </tr>\n",
       "  </tbody>\n",
       "</table>\n"
      ],
      "text/plain": [
       "<pandas.io.formats.style.Styler at 0xe7fa700>"
      ]
     },
     "execution_count": 58,
     "metadata": {},
     "output_type": "execute_result"
    }
   ],
   "source": [
    "x1=[-2,-1,0,1,2]\n",
    "x2=[1,0,1,0,1]\n",
    "y1=[y(n,x1) for n in range(len(x1))]\n",
    "y2=[y(n,x2) for n in range(len(x2))]\n",
    "x12=[x1i+x2i for x1i,x2i in zip(x1,x2)]\n",
    "columns=['x1[n]','y1[n]','x2[n]','y2[n]','x1[n]+x2[n]',\n",
    "         'y1[n]+y2[n]','y[n] for x[n]=x1[n]+x2[n]']\n",
    "rows=[]\n",
    "for n in range(len(x1)):\n",
    "    temp=[x1[n],y1[n],x2[n],y2[n],\n",
    "          x1[n]+x2[n],y1[n]+y2[n],y(n,x12)]\n",
    "    rows.append(temp)\n",
    "df=pd.DataFrame(rows,columns=columns)\n",
    "df=df.style.set_caption('Checking additivity:')\n",
    "df"
   ]
  },
  {
   "cell_type": "markdown",
   "id": "058bea4e",
   "metadata": {},
   "source": [
    "Time-invariant: $x[n-n_0]\\rightarrow y[n-n_0]$"
   ]
  },
  {
   "cell_type": "code",
   "execution_count": 72,
   "id": "a196db56",
   "metadata": {},
   "outputs": [
    {
     "data": {
      "text/html": [
       "<style type=\"text/css\">\n",
       "</style>\n",
       "<table id=\"T_ba8ac_\">\n",
       "  <caption>Time-invariance:</caption>\n",
       "  <thead>\n",
       "    <tr>\n",
       "      <th class=\"blank level0\" >&nbsp;</th>\n",
       "      <th class=\"col_heading level0 col0\" >x[n-n0]</th>\n",
       "      <th class=\"col_heading level0 col1\" >y[n-n0]</th>\n",
       "      <th class=\"col_heading level0 col2\" >y[n] for x[n-n0]</th>\n",
       "    </tr>\n",
       "  </thead>\n",
       "  <tbody>\n",
       "    <tr>\n",
       "      <th id=\"T_ba8ac_level0_row0\" class=\"row_heading level0 row0\" >0</th>\n",
       "      <td id=\"T_ba8ac_row0_col0\" class=\"data row0 col0\" >0</td>\n",
       "      <td id=\"T_ba8ac_row0_col1\" class=\"data row0 col1\" >0</td>\n",
       "      <td id=\"T_ba8ac_row0_col2\" class=\"data row0 col2\" >0</td>\n",
       "    </tr>\n",
       "    <tr>\n",
       "      <th id=\"T_ba8ac_level0_row1\" class=\"row_heading level0 row1\" >1</th>\n",
       "      <td id=\"T_ba8ac_row1_col0\" class=\"data row1 col0\" >0</td>\n",
       "      <td id=\"T_ba8ac_row1_col1\" class=\"data row1 col1\" >0</td>\n",
       "      <td id=\"T_ba8ac_row1_col2\" class=\"data row1 col2\" >0</td>\n",
       "    </tr>\n",
       "    <tr>\n",
       "      <th id=\"T_ba8ac_level0_row2\" class=\"row_heading level0 row2\" >2</th>\n",
       "      <td id=\"T_ba8ac_row2_col0\" class=\"data row2 col0\" >-2</td>\n",
       "      <td id=\"T_ba8ac_row2_col1\" class=\"data row2 col1\" >-4</td>\n",
       "      <td id=\"T_ba8ac_row2_col2\" class=\"data row2 col2\" >-4</td>\n",
       "    </tr>\n",
       "    <tr>\n",
       "      <th id=\"T_ba8ac_level0_row3\" class=\"row_heading level0 row3\" >3</th>\n",
       "      <td id=\"T_ba8ac_row3_col0\" class=\"data row3 col0\" >-1</td>\n",
       "      <td id=\"T_ba8ac_row3_col1\" class=\"data row3 col1\" >-4</td>\n",
       "      <td id=\"T_ba8ac_row3_col2\" class=\"data row3 col2\" >-4</td>\n",
       "    </tr>\n",
       "    <tr>\n",
       "      <th id=\"T_ba8ac_level0_row4\" class=\"row_heading level0 row4\" >4</th>\n",
       "      <td id=\"T_ba8ac_row4_col0\" class=\"data row4 col0\" >0</td>\n",
       "      <td id=\"T_ba8ac_row4_col1\" class=\"data row4 col1\" >-1</td>\n",
       "      <td id=\"T_ba8ac_row4_col2\" class=\"data row4 col2\" >-1</td>\n",
       "    </tr>\n",
       "    <tr>\n",
       "      <th id=\"T_ba8ac_level0_row5\" class=\"row_heading level0 row5\" >5</th>\n",
       "      <td id=\"T_ba8ac_row5_col0\" class=\"data row5 col0\" >1</td>\n",
       "      <td id=\"T_ba8ac_row5_col1\" class=\"data row5 col1\" >2</td>\n",
       "      <td id=\"T_ba8ac_row5_col2\" class=\"data row5 col2\" >2</td>\n",
       "    </tr>\n",
       "    <tr>\n",
       "      <th id=\"T_ba8ac_level0_row6\" class=\"row_heading level0 row6\" >6</th>\n",
       "      <td id=\"T_ba8ac_row6_col0\" class=\"data row6 col0\" >2</td>\n",
       "      <td id=\"T_ba8ac_row6_col1\" class=\"data row6 col1\" >5</td>\n",
       "      <td id=\"T_ba8ac_row6_col2\" class=\"data row6 col2\" >5</td>\n",
       "    </tr>\n",
       "  </tbody>\n",
       "</table>\n"
      ],
      "text/plain": [
       "<pandas.io.formats.style.Styler at 0xe94d130>"
      ]
     },
     "execution_count": 72,
     "metadata": {},
     "output_type": "execute_result"
    }
   ],
   "source": [
    "x=[-2,-1,0,1,2]; yn=[]; yn_D=[]; n0=2\n",
    "x_D=n0*[0]\n",
    "x_D.extend(x)\n",
    "for n in range(len(x)):\n",
    "    yn.append(y(n,x))\n",
    "yn_D=n0*[0]\n",
    "yn_D.extend(yn)\n",
    "yn_x_D=[]\n",
    "for n in range(len(x_D)):\n",
    "    yn_x_D.append(y(n,x_D))\n",
    "columns=['x[n-n0]','y[n-n0]','y[n] for x[n-n0]']\n",
    "rows=[]\n",
    "for n in range(len(x_D)):\n",
    "    rows.append([x_D[n],yn_D[n],yn_x_D[n]])\n",
    "df=pd.DataFrame(rows,columns=columns)\n",
    "df=df.style.set_caption('Time-invariance:')\n",
    "df"
   ]
  },
  {
   "cell_type": "code",
   "execution_count": null,
   "id": "af24b725",
   "metadata": {},
   "outputs": [],
   "source": []
  }
 ],
 "metadata": {
  "kernelspec": {
   "display_name": "Python 3 (ipykernel)",
   "language": "python",
   "name": "python3"
  },
  "language_info": {
   "codemirror_mode": {
    "name": "ipython",
    "version": 3
   },
   "file_extension": ".py",
   "mimetype": "text/x-python",
   "name": "python",
   "nbconvert_exporter": "python",
   "pygments_lexer": "ipython3",
   "version": "3.8.10"
  }
 },
 "nbformat": 4,
 "nbformat_minor": 5
}
